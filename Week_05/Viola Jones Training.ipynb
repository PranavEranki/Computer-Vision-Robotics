{
 "cells": [
  {
   "cell_type": "markdown",
   "metadata": {},
   "source": [
    "# Viola Jones Algorithm"
   ]
  },
  {
   "cell_type": "markdown",
   "metadata": {},
   "source": [
    "#### Consists of Training and Detection"
   ]
  },
  {
   "cell_type": "markdown",
   "metadata": {},
   "source": [
    "### Training"
   ]
  },
  {
   "cell_type": "markdown",
   "metadata": {},
   "source": [
    "We need to help the algorithm understand what features are important\n",
    "\n",
    "It might think a gray background is vital for a face. It is not.\n",
    "\n",
    "It might think a beard is vital for a face. It is not.\n",
    "\n",
    "It might think hair is vital. That is not the case either.\n",
    "\n",
    "We need to tell the classifier what features are vital through some method.\n",
    "\n",
    "We also need to tell it what threshold of contrast (refer to detection file if necessary) is important.\n",
    "\n",
    "How?"
   ]
  },
  {
   "cell_type": "markdown",
   "metadata": {},
   "source": [
    "So, the algorithm will shrink the image down to 24 x 24 pixels.\n",
    "    - This is necessary to isolate the more important features. \n",
    "    - Bigger images have more features than small ones, and not every feature is important. \n",
    "\n",
    "Then, it will look for features to attempt to figure out what features are important.\n",
    "\n",
    "Once it has detected these features, it scales the features up and looks for them on the new image"
   ]
  },
  {
   "cell_type": "markdown",
   "metadata": {},
   "source": [
    "Now, this is all fine and dandy, but we need __many__ images for this to work. \n",
    "\n",
    "Otherwise, it might overfit itself (make itself extremely used to) only one face.\n",
    "\n",
    "We need to generalize the model which employs the algorithm"
   ]
  },
  {
   "cell_type": "markdown",
   "metadata": {},
   "source": [
    "Now, you also need to give the algorithm many images that __do not__ contain faces in them. \n",
    "\n",
    "This way, the algorithm can recognize what images contain faces and what images don't\n",
    "\n",
    "If we don't provide this, the algorithm might learn to classify a picture of a flower or a dog or something like that as a face. \n",
    "\n",
    "We must provide it with labeled data which has no faces and data which has faces and teach it to be able to discern between these two types of images.\n",
    "\n",
    "It will pick the features which it finds useful for identifying faces."
   ]
  },
  {
   "cell_type": "markdown",
   "metadata": {},
   "source": [
    "### Ada Boost\n",
    "#### (Adaptive Boosting)"
   ]
  },
  {
   "cell_type": "markdown",
   "metadata": {},
   "source": [
    "Even in a small image, the # of features are huge. (More than 180k possible features, because the features are scalable and moveable)\n",
    "\n",
    "![](imgs/allPossibleFeatures.PNG)\n",
    "\n",
    "This is where adaptive boosting comes in"
   ]
  },
  {
   "cell_type": "markdown",
   "metadata": {},
   "source": [
    "Let's create a function which adds up all the features and the weights of those features.\n",
    "\n",
    "![](imgs/collectiveFeatures.PNG)\n",
    "\n",
    "Each individual feature is referred to as a weak classifier, because it does not achieve good accuracy by itself(i.e the existence of this feature in an image only has a 50% chance of indicating that the image is a face or not.)\n",
    "\n",
    "As you add more and more features, the classifier becomes stronger, because the existence of multiple features(i.e what the computer thinks is a nose and a mouth) indicate a face better than just what the computer thinks is a nose. (i.e 80% > 50%)\n",
    "\n",
    "Once you take ~1000 of these features, the classifier as a whole becomes quite powerful. This is referred to as an __ensemble method__ - leveraging the power of the crowd.\n"
   ]
  },
  {
   "cell_type": "markdown",
   "metadata": {},
   "source": [
    "Adaptive Boosting helps find the best features for this ensemble method.\n",
    "\n",
    "![](imgs/singleNoseDetectionResults.PNG)\n",
    "\n",
    "\n",
    "Let's say one feature on its own (i.e. identifying the bridge of the nose) identifies this. \n",
    "\n",
    "* It says that 3 out of 5 of the faces are indeed faces because they contain the bridge of the nose feature. \n",
    "* Then, it says that 3 out of 5 of the non-faces are not faces because they do not contain the bridge of the nose feature.\n",
    "* However, it then says that 2 of the faces are not faces because they do not contain the bridge of the nose feature\n",
    "* Then, it says that two of the non-faces are faces because they contain the bridge of the nose feature."
   ]
  },
  {
   "cell_type": "markdown",
   "metadata": {},
   "source": [
    "Now, adaptive boosting will help us not just identify the strongest features, but the features that are both strong and complement each other."
   ]
  },
  {
   "cell_type": "markdown",
   "metadata": {},
   "source": [
    "So, the adaptive boosting will give more weights in its function to the images which the first feature identified wrongly. \n",
    "\n",
    "Then, it will find a feature which will correctly identify the images which the first one was unable to."
   ]
  },
  {
   "cell_type": "markdown",
   "metadata": {},
   "source": [
    "And this continues until it finds all the best features which will build off the previous features and in the end, create the powerful ensemble classifier."
   ]
  },
  {
   "cell_type": "markdown",
   "metadata": {},
   "source": [
    "![](imgs/adaBoostFinal.PNG)"
   ]
  },
  {
   "cell_type": "markdown",
   "metadata": {},
   "source": [
    "### Now, we come to the concept of cascading"
   ]
  },
  {
   "cell_type": "markdown",
   "metadata": {},
   "source": [
    "This is a little hack which the ViolaJones algorithm employs.\n",
    "\n",
    "Here, the algorithm looks at each sliding window (refer to detection)\n",
    "\n",
    "Let's say n is a certain number of features which are the most vital.\n",
    "\n",
    "If the top n features in the algorithm are not there, it rejects this sub window and moves on to the next one.\n",
    "\n",
    "However, if those features are there, it will continue to the next n feature. Again, it will check for those certain featurs, and if those are not present, it will go to the next sliding window. If it is there, it will go to the next feature. This goes on and on.\n",
    "\n",
    "![](imgs/cascadingSimple_1.PNG)"
   ]
  },
  {
   "cell_type": "markdown",
   "metadata": {},
   "source": [
    "This tool is called cascading, and it helps significantly speed up the process of detecting if that subwindow contains a face.\n",
    "\n",
    "Here is an example of cascading.\n",
    "\n",
    "![](imgs/exampleCascading.PNG)"
   ]
  },
  {
   "cell_type": "markdown",
   "metadata": {},
   "source": [
    "Here, the model will accept that the first three features are there (hair, eye, eyebrow), and continue, but the second that it detects that the fourth feature (the existence both sides of the nose) is non-existent, it will skip to the next frame."
   ]
  }
 ],
 "metadata": {
  "kernelspec": {
   "display_name": "Python 3",
   "language": "python",
   "name": "python3"
  },
  "language_info": {
   "codemirror_mode": {
    "name": "ipython",
    "version": 3
   },
   "file_extension": ".py",
   "mimetype": "text/x-python",
   "name": "python",
   "nbconvert_exporter": "python",
   "pygments_lexer": "ipython3",
   "version": "3.5.4"
  }
 },
 "nbformat": 4,
 "nbformat_minor": 2
}
