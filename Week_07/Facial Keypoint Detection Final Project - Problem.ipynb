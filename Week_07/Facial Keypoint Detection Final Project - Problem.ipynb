{
 "cells": [
  {
   "cell_type": "markdown",
   "metadata": {},
   "source": [
    "# Problem:\n",
    "We want to detect the area between the nose and the mouth in the keypoints and place the mustache there."
   ]
  },
  {
   "cell_type": "markdown",
   "metadata": {},
   "source": [
    "Imports. We need :\n",
    "* cv2\n",
    "* numpy\n",
    "* time\n",
    "* math - cos, sin, radians"
   ]
  },
  {
   "cell_type": "code",
   "execution_count": null,
   "metadata": {},
   "outputs": [],
   "source": [
    "# Do the imports here\n"
   ]
  },
  {
   "cell_type": "markdown",
   "metadata": {},
   "source": [
    "This bit is already done for you, but you need to normally get the faceCascade classifier through an xml file which you should save somewhere inside your project folder and call here:"
   ]
  },
  {
   "cell_type": "code",
   "execution_count": null,
   "metadata": {},
   "outputs": [],
   "source": [
    "cascPath = \"detector_architectures/haarcascade_frontalface_default.xml\"  # for face detection\n",
    "faceCascade = cv2.CascadeClassifier(cascPath)"
   ]
  },
  {
   "cell_type": "markdown",
   "metadata": {},
   "source": [
    "Use cv2 to read the mustache.png file from the images folder and save it to a variable called 'mst'"
   ]
  },
  {
   "cell_type": "code",
   "execution_count": null,
   "metadata": {},
   "outputs": [],
   "source": [
    "# Read here:\n"
   ]
  },
  {
   "cell_type": "markdown",
   "metadata": {},
   "source": [
    "Here, we define the put mustache function.\n",
    "\n",
    "It accepts:\n",
    "    * the moustache\n",
    "    * the face\n",
    "    * The x and y \n",
    "    * The width and height of the face\n",
    "    \n",
    "There are a bunch of hardcoded constants in here. It's pretty unfortunate, but there's nothing we can do about them. (Took me a lot of time to figure these out myself)\n",
    "\n",
    "This is already done for you because it is a **LOT** of work and takes a lot of time to get the values properly."
   ]
  },
  {
   "cell_type": "code",
   "execution_count": null,
   "metadata": {},
   "outputs": [],
   "source": [
    "def put_mustache(mst,fc,x,y,w,h):\n",
    "    \n",
    "    #Getting the width and height of the face\n",
    "    face_width = w\n",
    "    face_height = h\n",
    "    \n",
    "    #Get the width and height which we want to scale the mustache down to(makes this scalable)\n",
    "    mst_width = int(face_width*0.42)+1 #Certain scalable constant, looks decent\n",
    "    mst_height = int(face_height*0.14)+1 #Certain scalable constant, looks decent\n",
    "\n",
    "    #Resizing the mustache\n",
    "    mst = cv2.resize(mst,(mst_width,mst_height)) \n",
    "    \n",
    "    #Here comes the pain and the constants. MUST BE HARDCODED FOR NO ERRORS!\n",
    "    #For each y pixel in the face in the general area where we want to put the mustache\n",
    "    for i in range(int(0.62857142857*face_height),int(0.62857142857*face_height)+mst_height):\n",
    "        # For each row of pixels in that y value\n",
    "        for j in range(int(0.29166666666*face_width),int(0.29166666666*face_width)+mst_width):\n",
    "            # For 3 keypoints\n",
    "            for k in range(3):\n",
    "                # if they are not out of the box we want to put them\n",
    "                if mst[i-int(0.62857142857*face_height)][j-int(0.29166666666*face_width)][k] <235:\n",
    "                    # Place certain sections of the mustache on the face at the proper keypoints\n",
    "                    fc[y+i][x+j][k] = mst[i-int(0.62857142857*face_height)][j-int(0.29166666666*face_width)][k]\n",
    "    return fc"
   ]
  },
  {
   "cell_type": "markdown",
   "metadata": {},
   "source": [
    "Helper methods:\n",
    "* Rotating the image a certain *angle* degrees:\n",
    "    - Getting the width and height\n",
    "    - Creating a rotation matrix using cv2's function\n",
    "    - Warping the new image using the rotation matrix\n",
    "    - returning that warped image\n",
    "* Rotating the point in the image by a certain *angle* degrees\n",
    "    - Used for detecting the face even when it is slightly tilted\n",
    "    - Get the x and y for 0.6 times image (used in calculating new x)\n",
    "    - Calculating the new x and y by using fancy math (yey)\n",
    "    - Returning the pixel values for the new x and y, then the other default values(channels, alpha)"
   ]
  },
  {
   "cell_type": "code",
   "execution_count": null,
   "metadata": {},
   "outputs": [],
   "source": [
    "def rotate_image(image, angle):\n",
    "    # If the angle is 0, return the image : implement this below\n",
    "    \n",
    "    #\n",
    "    # Use numpy's .shape attribute for arrays to save the first two values in the shape of the array to height and width.\n",
    "    \n",
    "    #\n",
    "    # The rest of this code is implemented for you.\n",
    "    rot_mat = cv2.getRotationMatrix2D((width/2, height/2), angle, 0.9)\n",
    "    result = cv2.warpAffine(image, rot_mat, (width, height), flags=cv2.INTER_LINEAR)\n",
    "    # Return result, which is the rotated image\n",
    "    \n",
    "    #\n",
    "    \n",
    "def rotate_point(pos, img, angle):\n",
    "    # If the angle is 0, return the position as it is : implement this below\n",
    "    \n",
    "    #\n",
    "    # The rest of the code is implemented for you\n",
    "    x = pos[0] - img.shape[1]*0.4\n",
    "    y = pos[1] - img.shape[0]*0.4\n",
    "    newx = x*cos(radians(angle)) + y*sin(radians(angle)) + img.shape[1]*0.4\n",
    "    newy = -x*sin(radians(angle)) + y*cos(radians(angle)) + img.shape[0]*0.4\n",
    "    \n",
    "    return int(newx), int(newy), pos[2], pos[3]"
   ]
  },
  {
   "cell_type": "markdown",
   "metadata": {},
   "source": [
    "The settings for the cascade classifier. Don't worry about this, there are just hyperparameters you will learn about later..."
   ]
  },
  {
   "cell_type": "code",
   "execution_count": null,
   "metadata": {},
   "outputs": [],
   "source": [
    "\n",
    "settings = {\n",
    "    'scaleFactor': 1.3, \n",
    "    'minNeighbors': 3, \n",
    "    'minSize': (50, 50)\n",
    "}"
   ]
  },
  {
   "cell_type": "markdown",
   "metadata": {},
   "source": [
    "# main method!\n",
    "\n",
    "Let's implement our method for mustache addition in realtime!"
   ]
  },
  {
   "cell_type": "code",
   "execution_count": null,
   "metadata": {},
   "outputs": [],
   "source": [
    "def main():\n",
    "    #Let's use cv2's VideoCapture method to take in the first video capture we find and save it to vc\n",
    "    \n",
    "    #\n",
    "    \n",
    "    # Try to get the first frame through the isOpened method. If it fails, then set rval to false.\n",
    "    # Otherwise, set rval and frame to vc.read()\n",
    "    \n",
    "    \n",
    "    #\n",
    "    \n",
    "    \n",
    "    # Keep the video stream open.\n",
    "    while rval:\n",
    "        # turn the frame into a grayscale image\n",
    "        \n",
    "        #\n",
    "        \n",
    "        # This allows for the face to be turned slightly and still be detected. This is already made for you.\n",
    "        for angle in [0, -25, 25]:\n",
    "            rimg = rotate_image(gray, angle)\n",
    "            detected = faceCascade.detectMultiScale(rimg, **settings)\n",
    "            if len(detected):\n",
    "                # faces is a rotation of the detected points \n",
    "                faces = [rotate_point(detected[-1], gray, -angle)]\n",
    "                break\n",
    "\n",
    "        \n",
    "        \n",
    "        SRC = frame\n",
    "        \n",
    "        # If faces are detected\n",
    "        if (len(detected)):\n",
    "            # for every x, y, width, and height in faces\n",
    "            for (x, y, w, h) in faces:\n",
    "                    # draw a rectangle on the face (This will take in the SRC, (the top left position,\n",
    "                    # the bottom right corner), the rgb color for the rectangle, and then an int width for the rectangle)\n",
    "                    \n",
    "                    # Put the mustache in the correct area on the face\n",
    "                    # Check the put_mustache function for what you need to add.\n",
    "        \n",
    "        # Show the new SRC image in a new window with cv2\n",
    "        \n",
    "        \n",
    "        # Exit functionality - press any key to exit laptop video\n",
    "        key = cv2.waitKey(20)\n",
    "        if key > 0: # Exit by pressing any key\n",
    "            # Destroy windows \n",
    "            cv2.destroyAllWindows()\n",
    "            \n",
    "            # Make sure window closes on OSx\n",
    "            for i in range (1,5):\n",
    "                cv2.waitKey(1)\n",
    "            return SRC\n",
    "        \n",
    "        # Read next frame\n",
    "        time.sleep(0.05)             # control framerate for computation - default 20 frames per sec\n",
    "        rval, frame = vc.read()"
   ]
  },
  {
   "cell_type": "code",
   "execution_count": null,
   "metadata": {},
   "outputs": [],
   "source": [
    "# Run the main method"
   ]
  }
 ],
 "metadata": {
  "kernelspec": {
   "display_name": "Python 3",
   "language": "python",
   "name": "python3"
  },
  "language_info": {
   "codemirror_mode": {
    "name": "ipython",
    "version": 3
   },
   "file_extension": ".py",
   "mimetype": "text/x-python",
   "name": "python",
   "nbconvert_exporter": "python",
   "pygments_lexer": "ipython3",
   "version": "3.5.6"
  },
  "widgets": {
   "state": {},
   "version": "1.1.2"
  }
 },
 "nbformat": 4,
 "nbformat_minor": 2
}
