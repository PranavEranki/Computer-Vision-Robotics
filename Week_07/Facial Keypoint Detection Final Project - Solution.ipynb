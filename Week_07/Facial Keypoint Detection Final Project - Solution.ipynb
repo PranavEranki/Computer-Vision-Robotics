{
 "cells": [
  {
   "cell_type": "markdown",
   "metadata": {},
   "source": [
    "# Problem:\n",
    "We want to detect the area between the nose and the mouth in the keypoints and place the mustache there."
   ]
  },
  {
   "cell_type": "markdown",
   "metadata": {},
   "source": [
    "Imports"
   ]
  },
  {
   "cell_type": "code",
   "execution_count": 1,
   "metadata": {},
   "outputs": [],
   "source": [
    "import cv2\n",
    "import numpy as np\n",
    "import time\n",
    "from math import sin, cos, radians"
   ]
  },
  {
   "cell_type": "markdown",
   "metadata": {},
   "source": [
    "Getting the classifier for the face. Also getting the mustache we want to put on our face"
   ]
  },
  {
   "cell_type": "code",
   "execution_count": 2,
   "metadata": {},
   "outputs": [],
   "source": [
    "cascPath = \"detector_architectures/haarcascade_frontalface_default.xml\"  # for face detection\n",
    "faceCascade = cv2.CascadeClassifier(cascPath)\n",
    "\n",
    "mst = cv2.imread('images/mustache.png')"
   ]
  },
  {
   "cell_type": "markdown",
   "metadata": {},
   "source": [
    "Here, we define the put mustache function.\n",
    "\n",
    "It accepts:\n",
    "    * the moustache\n",
    "    * the face\n",
    "    * The x and y \n",
    "    * The width and height of the face\n",
    "    \n",
    "There are a bunch of hardcoded constants in here. It's pretty unfortunate, but there's nothing we can do about them. (Took me a lot of time to figure these out myself)"
   ]
  },
  {
   "cell_type": "code",
   "execution_count": 3,
   "metadata": {},
   "outputs": [],
   "source": [
    "def put_mustache(mst,fc,x,y,w,h):\n",
    "    \n",
    "    #Getting the width and height of the face\n",
    "    face_width = w\n",
    "    face_height = h\n",
    "    \n",
    "    #Get the width and height which we want to scale the mustache down to(makes this scalable)\n",
    "    mst_width = int(face_width*0.42)+1 #Certain scalable constant, looks decent\n",
    "    mst_height = int(face_height*0.14)+1 #Certain scalable constant, looks decent\n",
    "\n",
    "    #Resizing the mustache\n",
    "    mst = cv2.resize(mst,(mst_width,mst_height)) \n",
    "    \n",
    "    #Here comes the pain and the constants. MUST BE HARDCODED FOR NO ERRORS!\n",
    "    #For each y pixel in the face in the general area where we want to put the mustache\n",
    "    for i in range(int(0.62857142857*face_height),int(0.62857142857*face_height)+mst_height):\n",
    "        # For each row of pixels in that y value\n",
    "        for j in range(int(0.29166666666*face_width),int(0.29166666666*face_width)+mst_width):\n",
    "            # For 3 keypoints\n",
    "            for k in range(3):\n",
    "                # if they are not out of the box we want to put them\n",
    "                if mst[i-int(0.62857142857*face_height)][j-int(0.29166666666*face_width)][k] <235:\n",
    "                    # Place certain sections of the mustache on the face at the proper keypoints\n",
    "                    fc[y+i][x+j][k] = mst[i-int(0.62857142857*face_height)][j-int(0.29166666666*face_width)][k]\n",
    "    return fc"
   ]
  },
  {
   "cell_type": "markdown",
   "metadata": {},
   "source": [
    "Helper methods:\n",
    "* Rotating the image a certain *angle* degrees:\n",
    "    - Getting the width and height\n",
    "    - Creating a rotation matrix using cv2's function\n",
    "    - Warping the new image using the rotation matrix\n",
    "    - returning that warped image\n",
    "* Rotating the point in the image by a certain *angle* degrees\n",
    "    - Used for detecting the face even when it is slightly tilted\n",
    "    - Get the x and y for 0.6 times image (used in calculating new x)\n",
    "    - Calculating the new x and y by using fancy math (yey)\n",
    "    - Returning the pixel values for the new x and y, then the other default values(channels, alpha)"
   ]
  },
  {
   "cell_type": "code",
   "execution_count": 4,
   "metadata": {},
   "outputs": [],
   "source": [
    "def rotate_image(image, angle):\n",
    "    if angle == 0: return image\n",
    "    height, width = image.shape[:2]\n",
    "    rot_mat = cv2.getRotationMatrix2D((width/2, height/2), angle, 0.9)\n",
    "    result = cv2.warpAffine(image, rot_mat, (width, height), flags=cv2.INTER_LINEAR)\n",
    "    return result\n",
    "\n",
    "def rotate_point(pos, img, angle):\n",
    "    if angle == 0: return pos\n",
    "    x = pos[0] - img.shape[1]*0.4\n",
    "    y = pos[1] - img.shape[0]*0.4\n",
    "    newx = x*cos(radians(angle)) + y*sin(radians(angle)) + img.shape[1]*0.4\n",
    "    newy = -x*sin(radians(angle)) + y*cos(radians(angle)) + img.shape[0]*0.4\n",
    "    \n",
    "    return int(newx), int(newy), pos[2], pos[3]"
   ]
  },
  {
   "cell_type": "markdown",
   "metadata": {},
   "source": [
    "Settings for the cascade classifier"
   ]
  },
  {
   "cell_type": "code",
   "execution_count": 5,
   "metadata": {},
   "outputs": [],
   "source": [
    "\n",
    "settings = {\n",
    "    'scaleFactor': 1.3, \n",
    "    'minNeighbors': 3, \n",
    "    'minSize': (50, 50)\n",
    "}"
   ]
  },
  {
   "cell_type": "code",
   "execution_count": 6,
   "metadata": {},
   "outputs": [],
   "source": [
    "def main():\n",
    "    vc = cv2.VideoCapture(0)\n",
    "\n",
    "    if vc.isOpened(): \n",
    "        rval, frame = vc.read()\n",
    "    else:\n",
    "        rval = False\n",
    "    while rval:\n",
    "        gray = cv2.cvtColor(frame, cv2.COLOR_RGB2GRAY)\n",
    "        \n",
    "        \n",
    "        # This allows for the face to be turned slightly and still be detected\n",
    "        for angle in [0, -25, 25]:\n",
    "            rimg = rotate_image(gray, angle)\n",
    "            detected = faceCascade.detectMultiScale(rimg, **settings)\n",
    "            if len(detected):\n",
    "                # faces is a rotation of the detected points \n",
    "                faces = [rotate_point(detected[-1], gray, -angle)]\n",
    "                break\n",
    "\n",
    "        \n",
    "        SRC = frame\n",
    "        # If faces are detected\n",
    "        if (len(detected)):\n",
    "            # for every x, y, width, and height in faces\n",
    "            for (x, y, w, h) in faces:\n",
    "                    # draw a rectangle on the face\n",
    "                    cv2.rectangle(SRC, (x, y), (x+w, y+h), (0, 255, 0), 2)\n",
    "                    # Put the mustache in the correct area on the face\n",
    "                    SRC = put_mustache(mst,SRC,x,y+7,w,h) #Tends to go a bit high, let's pull it down a bit\n",
    "\n",
    "        \n",
    "        cv2.imshow(\"Stache!\", SRC)\n",
    "        \n",
    "        \n",
    "        # Exit functionality - press any key to exit laptop video\n",
    "        key = cv2.waitKey(20)\n",
    "        if key > 0: # Exit by pressing any key\n",
    "            # Destroy windows \n",
    "            cv2.destroyAllWindows()\n",
    "            \n",
    "            # Make sure window closes on OSx\n",
    "            for i in range (1,5):\n",
    "                cv2.waitKey(1)\n",
    "            return SRC\n",
    "        \n",
    "        # Read next frame\n",
    "        time.sleep(0.05)             # control framerate for computation - default 20 frames per sec\n",
    "        rval, frame = vc.read()"
   ]
  },
  {
   "cell_type": "code",
   "execution_count": 8,
   "metadata": {},
   "outputs": [],
   "source": [
    "if __name__ == \"__main__\":\n",
    "    main()"
   ]
  }
 ],
 "metadata": {
  "kernelspec": {
   "display_name": "Python 3",
   "language": "python",
   "name": "python3"
  },
  "language_info": {
   "codemirror_mode": {
    "name": "ipython",
    "version": 3
   },
   "file_extension": ".py",
   "mimetype": "text/x-python",
   "name": "python",
   "nbconvert_exporter": "python",
   "pygments_lexer": "ipython3",
   "version": "3.5.4"
  },
  "widgets": {
   "state": {},
   "version": "1.1.2"
  }
 },
 "nbformat": 4,
 "nbformat_minor": 2
}
