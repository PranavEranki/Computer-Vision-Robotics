{
 "cells": [
  {
   "cell_type": "markdown",
   "metadata": {},
   "source": [
    "FOR A COMPLETE SSD IMPLEMETATION USING TENSORFLOW GO TO https://github.com/PranavEranki/SSD-Algorithm"
   ]
  },
  {
   "cell_type": "markdown",
   "metadata": {},
   "source": [
    "# Single Shot Multibox Detection Algorithm\n",
    "* How is the SSD algorithm different from CNNs?\n",
    "* How to detect / predict object detections"
   ]
  },
  {
   "cell_type": "markdown",
   "metadata": {},
   "source": [
    "Let's take this image. We want to detect all the sheep"
   ]
  },
  {
   "cell_type": "markdown",
   "metadata": {},
   "source": [
    "![](imgs/sheep.PNG)"
   ]
  },
  {
   "cell_type": "markdown",
   "metadata": {},
   "source": [
    "Normal CNN's do something called object proposal methodology.\n",
    "* They would have some object proposal techniques\n",
    "* They segment the whole image with rectangles and attempt to find every rectangle which contains a sheep\n",
    "* Checks for gradient and color - changes in gradient / color 'indicate' objects in that rectangle\n",
    "* Estimates what rectangles have sheep and which ones do not.\n",
    "* This is dangerous, and it is quite easy to mistake shadows for objects or miss objects"
   ]
  },
  {
   "cell_type": "markdown",
   "metadata": {},
   "source": [
    "Severely damages accuracy and computational efficiency"
   ]
  },
  {
   "cell_type": "markdown",
   "metadata": {},
   "source": [
    "![](imgs/ssd.PNG)"
   ]
  },
  {
   "cell_type": "markdown",
   "metadata": {},
   "source": [
    "This algorithm looks at the entire image one time only - hence the name."
   ]
  },
  {
   "cell_type": "markdown",
   "metadata": {},
   "source": [
    "* All the boxes go through the network at the same time. The network also remembers what boxes it is dealing with.\n",
    "* There are mini convolutions to shrink down the image to also deal with small versions of the object (i.e. small sheep in the background)"
   ]
  },
  {
   "cell_type": "markdown",
   "metadata": {},
   "source": [
    "Before we continue with how the multi-box detection concept works, let's define some basic vocab:\n",
    "1. Ground truth - a concept that is used to separate observed / empirical evidence from inferred evidence\n",
    "    - Ground truth is what exists for sure\n",
    "    - Inferred evidence could be boxes that the model puts around objects\n"
   ]
  },
  {
   "cell_type": "markdown",
   "metadata": {},
   "source": [
    "### So, how does the SSD algorithm work?\n",
    "1. First, let's imagine we have a __fully trained model__, and we take in the image (think of the *person* box as a label for the model to use)\n",
    "![](imgs/person.PNG)"
   ]
  },
  {
   "cell_type": "markdown",
   "metadata": {},
   "source": [
    "The SSD will break the image down into segments (see the green dots?) and construct 3 boxes for each of the segments(the sizes and exact layout can vary)"
   ]
  },
  {
   "cell_type": "markdown",
   "metadata": {},
   "source": [
    "*Please note that the algorithm does not draw this on your screen, it is performed internally - these images are just for visualization of how the algorithm works*\n",
    "![](imgs/beginningDetection.PNG)"
   ]
  },
  {
   "cell_type": "markdown",
   "metadata": {},
   "source": [
    "Then, we cover the entire image with these boxes.\n",
    "![](imgs/fullCovered.PNG)"
   ]
  },
  {
   "cell_type": "markdown",
   "metadata": {},
   "source": [
    "Then, for every box it checks for the existence of an object which it is training for (for example, if it is training for sheep, it will look for a sheep in every box it has made.)"
   ]
  },
  {
   "cell_type": "markdown",
   "metadata": {},
   "source": [
    "In our example, it detects these boxes(highlighted in red) which contain a person in them.\n",
    "![](imgs/detected1.PNG)\n",
    "*Does not detect the people in the back, they're too small and the algorithm cannot find features for them.*"
   ]
  },
  {
   "cell_type": "markdown",
   "metadata": {},
   "source": [
    "Let's clean up those boxes:\n",
    "![](imgs/detectedClean.PNG)\n",
    "*As you can see, not every box is orange - one does not have enough features*"
   ]
  },
  {
   "cell_type": "markdown",
   "metadata": {},
   "source": [
    "Since we have the ground truth box (the original white box), the algorithm will account for the differences between its predictions and the ground truth box, and will then adjust its weights (process of backpropagation) to better account for this box and draw boxes around the people better."
   ]
  },
  {
   "cell_type": "markdown",
   "metadata": {},
   "source": [
    "Through the training, two things happen:\n",
    "* The algorithm will learn how to use each box it generates to better find the existence of people inside the bounding box\n",
    "* The algorithm will get better at generating more accurate boxes for the people in the correct positions\n"
   ]
  },
  {
   "cell_type": "markdown",
   "metadata": {},
   "source": [
    "Now, we're doing well on our algorithm. Just one small problem - __scaling__. If we were to have an image, like this:\n",
    "\n",
    "![](imgs/horsesInAField.PNG)"
   ]
  },
  {
   "cell_type": "markdown",
   "metadata": {},
   "source": [
    "Then the algorithm will only detect these horses:\n",
    "\n",
    "![](imgs/detectedHorses1.PNG)\n"
   ]
  },
  {
   "cell_type": "markdown",
   "metadata": {},
   "source": [
    "The reason for this is because this main horse is too close. The rectangles are simply too small to be able to pick up this entire horse and important features it needs using only 1 box. (It might pick up a nose or a tail, but will be unable to piece everything together and identify a full horse."
   ]
  },
  {
   "cell_type": "markdown",
   "metadata": {},
   "source": [
    "Now, the next component of the SSD comes into play."
   ]
  },
  {
   "cell_type": "markdown",
   "metadata": {},
   "source": [
    "Let's refer back to the SSD architecture:\n",
    "![](imgs/ssd.PNG)"
   ]
  },
  {
   "cell_type": "markdown",
   "metadata": {},
   "source": [
    "The algorithm applies convolutions to shrink the size of the image. \n",
    "\n",
    "Everything we previously talked about occurs on these images.\n",
    "* Rectangles identified\n",
    "* Training of where and what the rectangles should detect\n",
    "\n",
    "There are many detections, and every time we convolve the image, we detect the boxes again.\n",
    "\n",
    "And again,\n",
    "\n",
    "and again,\n",
    "\n",
    "and again.\n",
    "\n",
    "And eventually, during one of these convolutions, the image will reach a size such that once the detection is applied, the algorithm will be able to detect the large horse because it has shrunk down to a size which can be picked up with a rectangle(which stays the same size throughout)\n",
    "\n",
    "![](imgs/smallHorse.PNG)"
   ]
  },
  {
   "cell_type": "markdown",
   "metadata": {},
   "source": [
    "But how is this rectangle drawn on this horse(which is smaller) translated to the larger image.\n",
    "\n",
    "Well, it is pretty straightforward. Referring to the architecture, the SSD saves some info about the scaling and detected values then 'deconvolves' or gets back to the original image, then places the filter on the horse in the original image."
   ]
  },
  {
   "cell_type": "markdown",
   "metadata": {},
   "source": [
    "Again, to reiterate, the entire algorithm is done __in one go__. All the layers learn together, and as we have seen before, *power in numbers*, and the network can better adjust itself to see all the images."
   ]
  }
 ],
 "metadata": {
  "kernelspec": {
   "display_name": "Python 3",
   "language": "python",
   "name": "python3"
  },
  "language_info": {
   "codemirror_mode": {
    "name": "ipython",
    "version": 3
   },
   "file_extension": ".py",
   "mimetype": "text/x-python",
   "name": "python",
   "nbconvert_exporter": "python",
   "pygments_lexer": "ipython3",
   "version": "3.5.6"
  },
  "widgets": {
   "state": {},
   "version": "1.1.2"
  }
 },
 "nbformat": 4,
 "nbformat_minor": 2
}
