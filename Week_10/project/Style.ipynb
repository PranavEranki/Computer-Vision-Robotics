{
 "cells": [
  {
   "cell_type": "code",
   "execution_count": 1,
   "metadata": {},
   "outputs": [],
   "source": [
    "import scipy.misc\n",
    "import tensorflow as tf\n",
    "import matplotlib.pyplot as plt\n",
    "\n",
    "from nst_utils import load_vgg_model, reshape_and_normalize_image, generate_noise_image, save_image\n",
    "from nst_app_utils import compute_content_cost, compute_style_cost, total_cost\n",
    "from config import CONFIG"
   ]
  },
  {
   "cell_type": "code",
   "execution_count": 2,
   "metadata": {},
   "outputs": [],
   "source": [
    "# Step 1: Create an interactive session\n",
    "tf.reset_default_graph()\n",
    "sess = tf.InteractiveSession()"
   ]
  },
  {
   "cell_type": "code",
   "execution_count": 3,
   "metadata": {},
   "outputs": [
    {
     "name": "stderr",
     "output_type": "stream",
     "text": [
      "D:\\Anaconda\\envs\\tf\\lib\\site-packages\\ipykernel_launcher.py:2: DeprecationWarning: `imread` is deprecated!\n",
      "`imread` is deprecated in SciPy 1.0.0, and will be removed in 1.2.0.\n",
      "Use ``imageio.imread`` instead.\n",
      "  \n"
     ]
    }
   ],
   "source": [
    "# Step 2: Load the content image\n",
    "content_image = scipy.misc.imread(CONFIG.CONTENT_IMAGE)\n",
    "content_image = reshape_and_normalize_image(content_image)"
   ]
  },
  {
   "cell_type": "code",
   "execution_count": 4,
   "metadata": {},
   "outputs": [
    {
     "name": "stderr",
     "output_type": "stream",
     "text": [
      "D:\\Anaconda\\envs\\tf\\lib\\site-packages\\ipykernel_launcher.py:2: DeprecationWarning: `imread` is deprecated!\n",
      "`imread` is deprecated in SciPy 1.0.0, and will be removed in 1.2.0.\n",
      "Use ``imageio.imread`` instead.\n",
      "  \n"
     ]
    }
   ],
   "source": [
    "# Step 3: Load the style image\n",
    "style_image = scipy.misc.imread(CONFIG.STYLE_IMAGE)\n",
    "style_image = reshape_and_normalize_image(style_image)"
   ]
  },
  {
   "cell_type": "code",
   "execution_count": 5,
   "metadata": {},
   "outputs": [],
   "source": [
    "# Step 4: Randomly initialize the image to be generated\n",
    "generated_image = generate_noise_image(content_image)"
   ]
  },
  {
   "cell_type": "code",
   "execution_count": 6,
   "metadata": {},
   "outputs": [],
   "source": [
    "# Step 5: Load the VGG16 model\n",
    "model = load_vgg_model(CONFIG.VGG_MODEL)"
   ]
  },
  {
   "cell_type": "code",
   "execution_count": 7,
   "metadata": {},
   "outputs": [],
   "source": [
    "# Step 6: Build the tensorflow graph\n",
    "# Step 6a: Run the content image through VGG16 model and compute content cost\n",
    "sess.run(model['input'].assign(content_image))\n",
    "J_content = compute_content_cost(sess, model, CONFIG.CONTENT_LAYER)\n",
    "\n",
    "# Step 6b: Run the style image through VGG16 model and compute style cost\n",
    "sess.run(model['input'].assign(style_image))\n",
    "J_style = compute_style_cost(sess, model, CONFIG.STYLE_LAYERS)\n",
    "\n",
    "# Step 6c: Compute the total cost\n",
    "J = total_cost(J_content, J_style, alpha = CONFIG.ALPHA, beta = CONFIG.BETA)\n",
    "\n",
    "# Step 6d: Define the optimizer and learning rate\n",
    "optimizer = tf.train.AdamOptimizer(CONFIG.LEARNING_RATE)\n",
    "train_step = optimizer.minimize(J)"
   ]
  },
  {
   "cell_type": "code",
   "execution_count": 8,
   "metadata": {},
   "outputs": [
    {
     "name": "stdout",
     "output_type": "stream",
     "text": [
      "Iteration 0 :\n",
      "total cost = 5054266400.0\n",
      "content cost = 7856.694\n",
      "style cost = 126354696.0\n",
      "Iteration 20 :\n",
      "total cost = 940689860.0\n",
      "content cost = 15193.847\n",
      "style cost = 23513448.0\n",
      "Iteration 40 :\n",
      "total cost = 483279650.0\n",
      "content cost = 16716.746\n",
      "style cost = 12077812.0\n",
      "Iteration 60 :\n",
      "total cost = 314046500.0\n",
      "content cost = 17374.97\n",
      "style cost = 7846818.5\n",
      "Iteration 80 :\n",
      "total cost = 231551940.0\n",
      "content cost = 17730.758\n",
      "style cost = 5784365.5\n",
      "Iteration 100 :\n",
      "total cost = 184808030.0\n",
      "content cost = 17992.84\n",
      "style cost = 4615702.5\n",
      "Iteration 120 :\n",
      "total cost = 154239920.0\n",
      "content cost = 18213.88\n",
      "style cost = 3851444.5\n",
      "Iteration 140 :\n",
      "total cost = 132175140.0\n",
      "content cost = 18364.883\n",
      "style cost = 3299787.2\n",
      "Iteration 160 :\n",
      "total cost = 115032570.0\n",
      "content cost = 18493.506\n",
      "style cost = 2871190.8\n",
      "Iteration 180 :\n",
      "total cost = 101095310.0\n",
      "content cost = 18591.777\n",
      "style cost = 2522734.8\n"
     ]
    }
   ],
   "source": [
    "# Step 7: Run graph for a large number of iterations, updating the generated image at every step\n",
    "# Initialize global variable\n",
    "sess.run(tf.global_variables_initializer())\n",
    "\n",
    "# Run the noisy initial generated image through the model.\n",
    "sess.run(model['input'].assign(generated_image))\n",
    "\n",
    "for i in range(CONFIG.NUM_ITERATIONS):\n",
    "\n",
    "    # Run the session on the train_step to minimize the total cost\n",
    "    sess.run(train_step)\n",
    "\n",
    "    # Compute the generated image by running the session on the current model['input']\n",
    "    generated_image = sess.run(model['input'])\n",
    "\n",
    "    # Print every 20 iteration.\n",
    "    if i % 20 == 0:\n",
    "        Jt, Jc, Js = sess.run([J, J_content, J_style])\n",
    "        print(\"Iteration \" + str(i) + \" :\")\n",
    "        print(\"total cost = \" + str(Jt))\n",
    "        print(\"content cost = \" + str(Jc))\n",
    "        print(\"style cost = \" + str(Js))\n",
    "\n",
    "        # save current generated image in the \"/output\" directory\n",
    "        save_image(\"output/\" + str(i) + \".png\", generated_image)\n",
    "\n",
    "# save last generated image\n",
    "\n",
    "save_image('output/generated_image.jpg', generated_image)"
   ]
  }
 ],
 "metadata": {
  "kernelspec": {
   "display_name": "Python 3",
   "language": "python",
   "name": "python3"
  },
  "language_info": {
   "codemirror_mode": {
    "name": "ipython",
    "version": 3
   },
   "file_extension": ".py",
   "mimetype": "text/x-python",
   "name": "python",
   "nbconvert_exporter": "python",
   "pygments_lexer": "ipython3",
   "version": "3.5.6"
  },
  "widgets": {
   "state": {},
   "version": "1.1.2"
  }
 },
 "nbformat": 4,
 "nbformat_minor": 2
}
