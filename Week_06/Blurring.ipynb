{
 "cells": [
  {
   "cell_type": "code",
   "execution_count": 4,
   "metadata": {},
   "outputs": [],
   "source": [
    "import cv2\n",
    "import numpy as np\n",
    "import time"
   ]
  },
  {
   "cell_type": "code",
   "execution_count": 5,
   "metadata": {},
   "outputs": [],
   "source": [
    "def laptop_camera_identity_hider():\n",
    "    # Create instance of video capturer\n",
    "    cv2.namedWindow(\"face detection activated\")\n",
    "    vc = cv2.VideoCapture(0)\n",
    "\n",
    "    # Try to get the first frame\n",
    "    if vc.isOpened(): \n",
    "        rval, frame = vc.read()\n",
    "    else:\n",
    "        rval = False\n",
    "    \n",
    "    # Keep video stream open\n",
    "    while rval:\n",
    "        # Plot image from camera with detections marked\n",
    "        image_copy =  np.copy(frame)\n",
    "\n",
    "        # Convert the RGB  image to grayscale\n",
    "        image_gray = cv2.cvtColor(image_copy, cv2.COLOR_RGB2GRAY)\n",
    "\n",
    "        # Extract the pre-trained face detector from an xml file\n",
    "        face_cascade = cv2.CascadeClassifier('detector_architectures/haarcascade_frontalface_default.xml')\n",
    "\n",
    "        # Detect the faces in image\n",
    "        faces = face_cascade.detectMultiScale(image_gray, 1.4, 6)\n",
    "        \n",
    "        # This is a kernel which will blur the face. Basically makes the value extremely close to black / gray\n",
    "        kernel = np.ones((60,60), np.float32)/3600\n",
    "\n",
    "        for (x,y,w,h) in faces:\n",
    "            image_rgb[y:y+h, x:x+w, :] = cv2.filter2D(image_rgb[y:y+h, x:x+w, :], -1, kernel)\n",
    "            \n",
    "        cv2.imshow(\"identity hidden\", image_rgb)\n",
    "\n",
    "        # Exit functionality - press any key to exit laptop video\n",
    "        key = cv2.waitKey(20)\n",
    "        if key > 0: # Exit by pressing any key\n",
    "            # Destroy windows\n",
    "            cv2.destroyAllWindows()\n",
    "\n",
    "            for i in range (1,5):\n",
    "                cv2.waitKey(1)\n",
    "            return\n",
    "        \n",
    "        # Read next frame\n",
    "        time.sleep(0.05)             # control framerate for computation - default 20 frames per sec\n",
    "        rval, frame = vc.read()"
   ]
  },
  {
   "cell_type": "code",
   "execution_count": 7,
   "metadata": {},
   "outputs": [],
   "source": [
    "laptop_camera_identity_hider()"
   ]
  }
 ],
 "metadata": {
  "kernelspec": {
   "display_name": "Python 3",
   "language": "python",
   "name": "python3"
  },
  "language_info": {
   "codemirror_mode": {
    "name": "ipython",
    "version": 3
   },
   "file_extension": ".py",
   "mimetype": "text/x-python",
   "name": "python",
   "nbconvert_exporter": "python",
   "pygments_lexer": "ipython3",
   "version": "3.5.6"
  },
  "widgets": {
   "state": {},
   "version": "1.1.2"
  }
 },
 "nbformat": 4,
 "nbformat_minor": 2
}
