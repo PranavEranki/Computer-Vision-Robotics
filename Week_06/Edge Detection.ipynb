{
 "cells": [
  {
   "cell_type": "code",
   "execution_count": 1,
   "metadata": {},
   "outputs": [],
   "source": [
    "import cv2\n",
    "import numpy"
   ]
  },
  {
   "cell_type": "markdown",
   "metadata": {},
   "source": [
    "1. Noise reduction with a 5x5 Gaussian Filter\n",
    "    - Removing unwanted pixels, slightly blurs image\n",
    "2. Filter the smoothened image with a Sobel Kernel.\n",
    "    - Creates an image which emphasizes edges\n",
    "3. Find the edge gradient and direction\n",
    "    - Removing all unwanted pixels which do not constitute the edges. This results in thin edges.\n",
    "4. Hysteresis thresholding\n",
    "    - This stage decides which edges are really edges and which are not. \n",
    "    - Checks gradient of those edges to make sure they connect to other edges and that they are within a certain threshold \n",
    "    - Any edges which fail these tests are discarded\n",
    "    - Removes small, unwanted pixel noise\n",
    "    - Left with strong edges in the picture"
   ]
  },
  {
   "cell_type": "code",
   "execution_count": 4,
   "metadata": {},
   "outputs": [],
   "source": [
    "def laptop_camera_go():\n",
    "    #Getting live feed\n",
    "    cv2.namedWindow(\"face detection activated\")\n",
    "    vc = cv2.VideoCapture(0)\n",
    "\n",
    "    # Try to get the first frame\n",
    "    if vc.isOpened(): \n",
    "        rval, frame = vc.read()\n",
    "    else:\n",
    "        rval = False\n",
    "    \n",
    "    # Keep the video stream open\n",
    "    while rval:\n",
    "        # Get the image from camera, convert to grayscale\n",
    "        gray = cv2.cvtColor(frame, cv2.COLOR_RGB2GRAY)\n",
    "        # Get the edges\n",
    "        edges = cv2.Canny(gray, 100,200)\n",
    "        \n",
    "        # Show both the original frame and the edges we detected from it\n",
    "        cv2.imshow(\"Original image\", frame)\n",
    "        cv2.imshow(\"Edge detected\", edges)\n",
    "        \n",
    "        # Just stuff for closing the image once you are done.\n",
    "        key = cv2.waitKey(20)\n",
    "        if key > 0: # Exit by pressing any key\n",
    "            # Destroy windows \n",
    "            cv2.destroyAllWindows()\n",
    "            \n",
    "            # Make sure window closes on OSx\n",
    "            for i in range (1,5):\n",
    "                cv2.waitKey(1)\n",
    "            return\n",
    "        \n",
    "        # Read next frame\n",
    "        time.sleep(0.05)             # control framerate for computation - default 20 frames per sec\n",
    "        rval, frame = vc.read()"
   ]
  },
  {
   "cell_type": "code",
   "execution_count": 5,
   "metadata": {},
   "outputs": [],
   "source": [
    "laptop_camera_go()"
   ]
  }
 ],
 "metadata": {
  "kernelspec": {
   "display_name": "Python 3",
   "language": "python",
   "name": "python3"
  },
  "language_info": {
   "codemirror_mode": {
    "name": "ipython",
    "version": 3
   },
   "file_extension": ".py",
   "mimetype": "text/x-python",
   "name": "python",
   "nbconvert_exporter": "python",
   "pygments_lexer": "ipython3",
   "version": "3.6.5"
  },
  "widgets": {
   "state": {},
   "version": "1.1.2"
  }
 },
 "nbformat": 4,
 "nbformat_minor": 2
}
