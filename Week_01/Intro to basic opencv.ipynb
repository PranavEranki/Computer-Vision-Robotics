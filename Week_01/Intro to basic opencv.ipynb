{
 "cells": [
  {
   "cell_type": "markdown",
   "metadata": {},
   "source": [
    "## Intro to very basic OpenCV\n"
   ]
  },
  {
   "cell_type": "markdown",
   "metadata": {},
   "source": [
    "So, what is openCV?\n",
    "\n",
    "OpenCV is essentially a python library for computer vision (real time, image processing / altering, image read/write, etc) which builds off numpy."
   ]
  },
  {
   "cell_type": "code",
   "execution_count": 1,
   "metadata": {},
   "outputs": [],
   "source": [
    "import cv2 #import statement"
   ]
  },
  {
   "cell_type": "markdown",
   "metadata": {},
   "source": [
    "This is a function called from the cv2 module called `imread` - this reads the image located at the directory specified inside the command. In this example, it looks inside the imgs folder for the Tino.png file\n",
    "\n",
    "The img is saved as a matrix (w x l x 3) - width pixels by length pixels by 3 channels for R, G, and B.\n",
    "\n",
    "Because the img is saved as a matrix, we can call many functions on it later in the program."
   ]
  },
  {
   "cell_type": "code",
   "execution_count": 2,
   "metadata": {},
   "outputs": [],
   "source": [
    "img = cv2.imread(\"imgs/Tino.png\")"
   ]
  },
  {
   "cell_type": "markdown",
   "metadata": {},
   "source": [
    "Now, let's show the code using cv2's imshow method. This method shows the `img` in a new window with the name 'image' (which can really be anything, even something like 'banana' or 'jeffrey' or something. If you wanted to change the image being shown or the name, edit the fields.\n",
    "\n",
    "Here is what the code on the bottom does.\n",
    "\n",
    "1. This will display the image in a new window with the name 'image'.\n",
    "\n",
    "2. Then, it will wait until some key is pressed from the user side.\n",
    "\n",
    "3. Once that key is pressed, it goes to the next step, which is destroying all open windows.\n",
    "\n",
    "\n",
    "This is a necessary trio in cv2. If you want to show an image, you can have the imshow method as many times as you like before a waitKey and destroyAllWindows command."
   ]
  },
  {
   "cell_type": "code",
   "execution_count": 3,
   "metadata": {},
   "outputs": [],
   "source": [
    "cv2.imshow('image',img) # Showing the image in a new window labeled 'image'\n",
    "cv2.waitKey(0) # Wait until some key is pressed\n",
    "cv2.destroyAllWindows() # Then, destroy all the open windows"
   ]
  },
  {
   "cell_type": "markdown",
   "metadata": {},
   "source": [
    "Now, we will read the same image again, but with a flag which specifies __how__ the image should be read. This is passed as a second parameter to the cv2.imread function - it is optional, but alters how the image is read.\n",
    "\n",
    "Here are some examples of different flags.\n",
    "* cv2.IMREAD_COLOR : Loads a color image. Any transparency of image will be neglected. It is the default flag.\n",
    "* cv2.IMREAD_GRAYSCALE : Loads image in grayscale mode\n",
    "* cv2.IMREAD_UNCHANGED : Loads image as such including alpha channel\n",
    "\n",
    "There are many, many more flags for reading images which we will use later, but these 3 are the essentials.\n",
    "\n",
    "Let's try to read the tino image in grayscale, which is one of the popular flags (cv2.IMREAD_GRAYSCALE), and save it to an image called grayscale_img"
   ]
  },
  {
   "cell_type": "code",
   "execution_count": 4,
   "metadata": {},
   "outputs": [],
   "source": [
    "grayscaled_img = cv2.imread(\"imgs/Tino.png\", cv2.IMREAD_GRAYSCALE) # Reading the image as grayscale"
   ]
  },
  {
   "cell_type": "markdown",
   "metadata": {},
   "source": [
    "Here, we run the same code as we did previously, but with a different title and image so we can see the grayscaled image"
   ]
  },
  {
   "cell_type": "code",
   "execution_count": 5,
   "metadata": {},
   "outputs": [],
   "source": [
    "# Same display code but with the grayscaled image\n",
    "cv2.imshow('grayscaled',grayscaled_img) # Showing the grayscaled image in a new window labeled 'grayscaled'\n",
    "cv2.waitKey(0) # Wait until some key is pressed\n",
    "cv2.destroyAllWindows() # Then, destroy all the open windows"
   ]
  },
  {
   "cell_type": "markdown",
   "metadata": {},
   "source": [
    "It is possible to display multiple images at one time in different windows. Let's take a look."
   ]
  },
  {
   "cell_type": "markdown",
   "metadata": {},
   "source": [
    "You can also display multiple images at once in cv2, assuming you keep the end 2 commands to detect when the user presses a key (waitKey) and then destroy the windows when the user presses a key(destroyAllWindows() )"
   ]
  },
  {
   "cell_type": "code",
   "execution_count": 6,
   "metadata": {},
   "outputs": [],
   "source": [
    "cv2.imshow('image',img) ## Original image\n",
    "cv2.imshow('grayscaled',grayscaled_img) # Grayscaled image\n",
    "cv2.waitKey(0) # Wait until some key is pressed\n",
    "cv2.destroyAllWindows() # Then, destroy all the open windows"
   ]
  },
  {
   "cell_type": "markdown",
   "metadata": {},
   "source": [
    "We can also write openCV images to the os directory using imwrite, which accepts a path and an image to write. Outputs if the operation was successful or not"
   ]
  },
  {
   "cell_type": "code",
   "execution_count": 7,
   "metadata": {},
   "outputs": [
    {
     "data": {
      "text/plain": [
       "True"
      ]
     },
     "execution_count": 7,
     "metadata": {},
     "output_type": "execute_result"
    }
   ],
   "source": [
    "#Writing the grayscale image of this github\n",
    "cv2.imwrite(\"imgs/gray_Tino.PNG\", grayscaled_img)"
   ]
  },
  {
   "cell_type": "markdown",
   "metadata": {},
   "source": [
    "# Now, let's move to something complicated\n",
    "Mouse events in OpenCV are quite fun to use and useful in some cases.\n",
    "Now, let's make a function which will allow us to draw circles on our image and clear those circles if wanted."
   ]
  },
  {
   "cell_type": "code",
   "execution_count": 8,
   "metadata": {},
   "outputs": [],
   "source": [
    "import cv2\n",
    "import numpy as np # Extremely useful library\n",
    "\n",
    "windowname='Drawing' # Defining the window name beforehand in a constant\n",
    "\n",
    "def drawcircle(event, x, y, flags, param): \n",
    "    '''\n",
    "    This is a drawCircle function. A lot of the parameters here are only necessary because of the fact \n",
    "    that we are mapping it to the mouse.\n",
    "    The only actual necessary parameters are event, which is the mouse event which is performed, and x and y, the location\n",
    "    \n",
    "    '''\n",
    "    if event == cv2.EVENT_LBUTTONDOWN:  # if left button is clicked once\n",
    "        # draw a circle at x and y on image with the radius 20 and RGB Color (0, 255, 0).\n",
    "        # The last value, -1, means that the circle will be filled. \n",
    "        #If the value is 1, the circle will not be filled.\n",
    "        # If the value is 0, the circle will not be drawn at all.\n",
    "        cv2.circle(img, (x,y), 20, (0,255,0), 1)\n",
    "    elif event == cv2.EVENT_LBUTTONDBLCLK: # if double clicked of left button\n",
    "        # draw a circle at x and y on image with the radius 40 and RGB Color (255, 0, 0).\n",
    "        cv2.circle(img, (x,y), 40, (255,0,0), -1)\n",
    "    elif event == cv2.EVENT_RBUTTONDOWN: # If right clicked\n",
    "        # draw a circle at x and y on image with the radius 60 and RGB Color (0, 0, 255).\n",
    "        cv2.circle(img, (x,y), 60, (0,0,255), -1)\n",
    "    elif event == cv2.EVENT_MBUTTONDOWN: # If middle button clicked\n",
    "        # Wipe entire screen (matrix operations come in handy here)\n",
    "        img[:] = [0,0,0]\n",
    "            \n",
    "    \n",
    "# binding this mouse function to the previously defined window\n",
    "cv2.setMouseCallback(windowname,drawcircle)\n",
    "\n",
    "# Main method\n",
    "def main():\n",
    "    # Until the user presses a key, show the image in the window\n",
    "    # Allows the user to use the mouse functions binded to the window by displaying it\n",
    "    cv2.imshow(windowname, img) #Shows the tino image if you have not altered the program\n",
    "    cv2.waitKey(0)\n",
    "    # Destroy all windows once a key is pressed\n",
    "    cv2.destroyAllWindows()\n",
    "        \n",
    "# Run main method\n",
    "if __name__ == \"__main__\":\n",
    "    main()"
   ]
  },
  {
   "cell_type": "markdown",
   "metadata": {},
   "source": [
    "# Using trackbars\n",
    "Want to create your own custom RGB Palette?"
   ]
  },
  {
   "cell_type": "code",
   "execution_count": null,
   "metadata": {},
   "outputs": [],
   "source": [
    "# importing needed libraries\n",
    "# An empty unneeded function for when the trackbar is used. DW about this\n",
    "def emptyFunction(self):\n",
    "    pass\n",
    "\n",
    "def main():\n",
    "    #Creating a black img, 512 x 512 with 3 dimensions for R, G, and B\n",
    "    img = np.zeros((512, 512, 3), np.uint8)\n",
    "    \n",
    "    #Creating a window and assigning a universal window name (this is unnecessary, but convenient)\n",
    "    windowName = 'OpenCV BGR Color Palette'\n",
    "    cv2.namedWindow(windowName)\n",
    "    \n",
    "    # Creating the trackbars (this uses the createTrackbar method from openCV)\n",
    "    # This function accepts 4 parameters:\n",
    "    # 1. The name of the window ('R', 'G', or 'B' in our case)\n",
    "    # 2. The name of the window which we have created\n",
    "    # 3. The lower end of our trackbar(min value)\n",
    "    # 4. The higher end of our trackbar (max value)\n",
    "    # 5. A function to be called when the user uses the trackbar (in our case, we do nothing)\n",
    "    cv2.createTrackbar('R', windowName, 0, 255, emptyFunction)\n",
    "    cv2.createTrackbar('G', windowName, 0, 255, emptyFunction)\n",
    "    cv2.createTrackbar('B', windowName, 0, 255, emptyFunction)\n",
    "    \n",
    "    # Actual function\n",
    "    # We need to use a while loop here because we cannot display and get values for the trackbars\n",
    "    # with our other method. We need a while loop to do multiply actions and break if something's pressed\n",
    "    while(True):\n",
    "        # Show the window\n",
    "        cv2.imshow(windowName, img)\n",
    "        \n",
    "        # If any key is hit, break\n",
    "        if cv2.waitKey():\n",
    "            break\n",
    "        \n",
    "        #getting RGB values based on trackbar locations\n",
    "        # Getting the trackbar position (and hence our b, g, or r values) based on their location \n",
    "        # in the window assigned earlier.\n",
    "        blue = cv2.getTrackbarPos('B', windowName)\n",
    "        green = cv2.getTrackbarPos('G', windowName)\n",
    "        red = cv2.getTrackbarPos('R', windowName)\n",
    "        \n",
    "        \n",
    "        # Setting RGB Values into image (matrix operations - I told you images being saved as matrices would be helpful...)\n",
    "        img[:] = [red, green, blue]\n",
    "        print(img)\n",
    "        \n",
    "        \n",
    "    # Close window    \n",
    "    cv2.destroyAllWindows()\n",
    "\n",
    "if __name__ == \"__main__\":\n",
    "    main()"
   ]
  }
 ],
 "metadata": {
  "kernelspec": {
   "display_name": "Python 3",
   "language": "python",
   "name": "python3"
  },
  "language_info": {
   "codemirror_mode": {
    "name": "ipython",
    "version": 3
   },
   "file_extension": ".py",
   "mimetype": "text/x-python",
   "name": "python",
   "nbconvert_exporter": "python",
   "pygments_lexer": "ipython3",
   "version": "3.5.6"
  },
  "widgets": {
   "state": {},
   "version": "1.1.2"
  }
 },
 "nbformat": 4,
 "nbformat_minor": 2
}
