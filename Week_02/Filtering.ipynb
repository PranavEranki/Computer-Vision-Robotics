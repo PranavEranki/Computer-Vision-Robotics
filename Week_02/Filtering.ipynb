{
 "cells": [
  {
   "cell_type": "markdown",
   "metadata": {},
   "source": [
    "# What is filtering?"
   ]
  },
  {
   "cell_type": "code",
   "execution_count": 1,
   "metadata": {},
   "outputs": [],
   "source": [
    "import cv2\n",
    "import numpy as np"
   ]
  },
  {
   "cell_type": "code",
   "execution_count": 5,
   "metadata": {},
   "outputs": [],
   "source": [
    " def run():\n",
    "    # Video capture (live)\n",
    "    cap = cv2.VideoCapture(0)\n",
    "    while(True):\n",
    "        _, frame = cap.read() #Getting frame image from live feed\n",
    "        \n",
    "        # Getting the hsv values from the live feed\n",
    "        hsv = cv2.cvtColor(frame, cv2.COLOR_BGR2HSV) #Hue, saturation, value, convert to bgr2hsv values\n",
    "\n",
    "        ## Here, we are getting the hsv vals for the colors we want to detect.\n",
    "        # The hsv vals for everything we wish to detect must fall within these ranges.\n",
    "        # In this example, we try to detect yellow\n",
    "        lower_yellow = np.array([20, 100, 100]) #min hsv vals\n",
    "        upper_yellow = np.array([255,255,255])#max hsv vals\n",
    "\n",
    "        # Creating a mask, which is all the hsv values in the frame that are within the lower and upper yellow hsv vals\n",
    "        mask = cv2.inRange(hsv, lower_yellow, upper_yellow) #everything thats within those ranges\n",
    "        #Where there is something in frame and mask is true, so hsv in range.\n",
    "        #Essentially, res is just a color version of mask.\n",
    "        res = cv2.bitwise_and(frame, frame, mask = mask) \n",
    "\n",
    "        #Show the images\n",
    "        cv2.imshow('frame',frame) #Raw frame input\n",
    "        cv2.imshow('mask',mask) #Boolean, so black/white\n",
    "        cv2.imshow('res',res)#The actual color we want\n",
    "\n",
    "        k = cv2.waitKey(5) & 0xFF #Press Esc to close\n",
    "        if k == 27:\n",
    "            \n",
    "            break\n",
    "\n",
    "    cv2.destroyAllWindows() #Close python windows\n",
    "    cap.release() #Stop using camera\n",
    "    return frame, mask, res"
   ]
  },
  {
   "cell_type": "code",
   "execution_count": 6,
   "metadata": {},
   "outputs": [],
   "source": [
    "if __name__ == \"__main__\":\n",
    "    frame, mask, res = run()\n",
    "    cv2.imshow(\"Final mask\", mask)\n",
    "    cv2.imshow(\"Final frame\", frame)\n",
    "    cv2.imshow(\"res\", res)\n",
    "    cv2.waitKey(0)\n",
    "    cv2.destroyAllWindows()"
   ]
  }
 ],
 "metadata": {
  "kernelspec": {
   "display_name": "Python 3",
   "language": "python",
   "name": "python3"
  },
  "language_info": {
   "codemirror_mode": {
    "name": "ipython",
    "version": 3
   },
   "file_extension": ".py",
   "mimetype": "text/x-python",
   "name": "python",
   "nbconvert_exporter": "python",
   "pygments_lexer": "ipython3",
   "version": "3.5.6"
  },
  "widgets": {
   "state": {},
   "version": "1.1.2"
  }
 },
 "nbformat": 4,
 "nbformat_minor": 2
}
