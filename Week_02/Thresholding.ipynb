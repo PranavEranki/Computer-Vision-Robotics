{
 "cells": [
  {
   "cell_type": "markdown",
   "metadata": {},
   "source": [
    "# What is thresholding?\n",
    "Thresholding is one of the simplest methods of image segmentation.\n",
    "\n",
    "Threshold means has two values on each side.\n",
    "\n",
    "This means separating the values to black and white based on some conditions"
   ]
  },
  {
   "cell_type": "code",
   "execution_count": 1,
   "metadata": {},
   "outputs": [],
   "source": [
    "import cv2\n",
    "import numpy as np"
   ]
  },
  {
   "cell_type": "markdown",
   "metadata": {},
   "source": [
    "# Binary thresholding\n",
    "This is when you take a graysaled image and turn every value to a 1 or a 0.\n",
    "\n",
    "Not literally, though. Every value at 123 and above gets turned to white, every value at 122 and below gets turned to black.\n",
    "\n",
    "Running binary thresholding on color images results in messy, neon like images. This is because the same rules for binary apply, but this time instead to 3 different channels instead of 1 (R,G,B) instead of plan 0 to 255"
   ]
  },
  {
   "cell_type": "code",
   "execution_count": 2,
   "metadata": {},
   "outputs": [],
   "source": [
    "# Let's start by getting the basic image we are going to use.\n",
    "img = cv2.imread(\"imgs/bookpage.jpg\")\n",
    "\n",
    "grayscaled = cv2.cvtColor(img,cv2.COLOR_BGR2GRAY)\n",
    "# Now, let's apply our first threshold (The binary threshold) to our image when it is grayscaled \n",
    "retval, threshold = cv2.threshold(grayscaled, 12, 255, cv2.THRESH_BINARY)"
   ]
  },
  {
   "cell_type": "code",
   "execution_count": 3,
   "metadata": {},
   "outputs": [],
   "source": [
    "cv2.imshow('original',img)\n",
    "cv2.imshow('threshold',threshold)\n",
    "cv2.waitKey(0)\n",
    "cv2.destroyAllWindows()"
   ]
  },
  {
   "cell_type": "markdown",
   "metadata": {},
   "source": [
    "# Adaptive Gaussian Threshold\n",
    "Many images have different lighting conditions in different areas. \n",
    "\n",
    "In that case, we go for adaptive thresholding. \n",
    "\n",
    "In this, the algorithm calculates the threshold for a small region of the image. \n",
    "\n",
    "So we get different thresholds for different regions of the same image and it gives us better results for images with varying illumination."
   ]
  },
  {
   "cell_type": "code",
   "execution_count": 5,
   "metadata": {},
   "outputs": [],
   "source": [
    "show = False\n",
    "if (not show):\n",
    "    gaus = cv2.adaptiveThreshold(grayscaled, 255, cv2.ADAPTIVE_THRESH_GAUSSIAN_C, cv2.THRESH_BINARY, 15, 3)\n",
    "    # The first number is the blockSize\n",
    "    # This is the size of a pixel neighborhood that is used to calculate a threshold value for the pixel: \n",
    "    # 3, 5, 7, and so on.\n",
    "    \n",
    "    # The second number is C\n",
    "    # This is the Constant subtracted from the mean or weighted mean (see the details below). \n",
    "    # Normally, it is positive but may be zero or negative as well.\n",
    "    \n",
    "    cv2.imshow('original',img)\n",
    "    cv2.imshow('threshold',threshold)\n",
    "    cv2.imshow('Gaussian',gaus)\n",
    "    cv2.waitKey(0)\n",
    "    cv2.destroyAllWindows()\n",
    "else :\n",
    "    # This is for showing how the bottom and top thresholds work. Very long, do not recommend\n",
    "    for i in range(1, 256, 2):\n",
    "        failed = False\n",
    "        try:\n",
    "            gaus = cv2.adaptiveThreshold(grayscaled, 255, cv2.ADAPTIVE_THRESH_GAUSSIAN_C, cv2.THRESH_BINARY, i, 0)\n",
    "            cv2.imshow('original',img)\n",
    "            cv2.imshow('threshold',threshold)\n",
    "            cv2.imshow('Gaussian',gaus)\n",
    "            cv2.waitKey(0)\n",
    "            cv2.destroyAllWindows()\n",
    "            \n",
    "        except:\n",
    "            failed = True\n",
    "            print(\"failed: \" + str(i))\n",
    "        if (not failed):\n",
    "            print(\"i \" + str(i) + \" did not fail\")\n"
   ]
  }
 ],
 "metadata": {
  "kernelspec": {
   "display_name": "Python 3",
   "language": "python",
   "name": "python3"
  },
  "language_info": {
   "codemirror_mode": {
    "name": "ipython",
    "version": 3
   },
   "file_extension": ".py",
   "mimetype": "text/x-python",
   "name": "python",
   "nbconvert_exporter": "python",
   "pygments_lexer": "ipython3",
   "version": "3.5.6"
  },
  "widgets": {
   "state": {},
   "version": "1.1.2"
  }
 },
 "nbformat": 4,
 "nbformat_minor": 2
}
