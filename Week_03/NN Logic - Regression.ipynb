{
 "cells": [
  {
   "cell_type": "markdown",
   "metadata": {},
   "source": [
    "Artificial neural networks are statistical learning models, inspired by biological neural networks (central nervous systems, such as the brain), that are used in machine learning. These networks are represented as systems of interconnected “neurons”, which send messages to each other. The connections within the network can be systematically adjusted based on inputs and outputs, making them ideal for supervised learning.\n",
    "\n",
    "The idea is that the beginning neural network is extremely unstable, but it 'learns' from its mistakes and adjusts itself to avoid those mistakes again."
   ]
  },
  {
   "cell_type": "markdown",
   "metadata": {},
   "source": [
    "A neural network is a collection of “neurons” with “synapses” connecting them. The collection is organized into three main parts: the input layer, the hidden layer, and the output layer. Note that you can have n hidden layers, with the term “deep” learning implying multiple hidden layers.\n",
    "\n",
    "Here, we only have 2 hidden layers with only 4 neurons per layer - normally, we have __way__ more"
   ]
  },
  {
   "cell_type": "markdown",
   "metadata": {},
   "source": [
    "![](imgs/architecturebasic.jpeg)"
   ]
  },
  {
   "cell_type": "markdown",
   "metadata": {},
   "source": [
    "Hidden layers are necessary when the neural network has to make sense of something really complicated, contextual, or non obvious, like image recognition. The term “deep” learning came from having many hidden layers. These layers are known as “hidden”, since they are not visible as a network output. Read more about hidden layers here and here.\n",
    "\n",
    "The circles represent neurons and lines represent synapses. Synapses take the input and multiply it by a “weight” (the “strength” of the input in determining the output). Neurons add the outputs from all synapses and apply an activation function.\n",
    "\n",
    "Training a neural network basically means calibrating all of the “weights” by repeating two key steps, forward propagation and back propagation.\n",
    "\n",
    "Since neural networks are great for regression, the best input data are numbers (as opposed to discrete values, like colors or movie genres, whose data is better for statistical classification models). The output data will be a number within a range like 0 and 1 (this ultimately depends on the activation function—more on this below).\n",
    "\n",
    "In forward propagation, we apply a set of weights to the input data and calculate an output. For the first forward propagation, the set of weights is selected randomly.\n",
    "\n",
    "In back propagation, we measure the margin of error of the output and adjust the weights accordingly to decrease the error.\n",
    "\n",
    "Neural networks repeat both forward and back propagation until the weights are calibrated to accurately predict an output."
   ]
  },
  {
   "cell_type": "markdown",
   "metadata": {},
   "source": [
    "![](imgs/singlenode.jpeg)"
   ]
  },
  {
   "cell_type": "markdown",
   "metadata": {},
   "source": [
    "This is a single neuron of a neural network. (Each small, white circle in the architecture)"
   ]
  },
  {
   "cell_type": "markdown",
   "metadata": {},
   "source": [
    "Let's take this architecture and run some propagation on it.\n",
    "\n",
    "# Forward propagation\n",
    "\n",
    "![](imgs/evensimpler.png)"
   ]
  },
  {
   "cell_type": "markdown",
   "metadata": {},
   "source": [
    "Note that we use a single hidden layer with only three neurons for this example.\n",
    "\n",
    "We now assign weights to all of the synapses. Note that these weights are selected randomly (based on Gaussian distribution) since it is the first time we’re forward propagating. The initial weights will be between 0 and 1, but note that the final weights don’t need to be."
   ]
  },
  {
   "cell_type": "markdown",
   "metadata": {},
   "source": [
    "![](imgs/evensimpler1.png)"
   ]
  },
  {
   "cell_type": "markdown",
   "metadata": {},
   "source": [
    "We put these sums smaller in the circle, because they’re not the final value:\n",
    "![](imgs/evensimpler2.png)"
   ]
  },
  {
   "cell_type": "markdown",
   "metadata": {},
   "source": [
    "To get the final value, we apply the activation function to the hidden layer sums. The purpose of the activation function is to transform the input signal into an output signal and is necessary for neural networks to model complex non-linear patterns that simpler models might miss.\n",
    "\n",
    "There are many types of activation functions—linear, sigmoid, hyperbolic tangent, even step-wise. To be honest, I don’t know why one function is better than another.\n",
    "\n",
    "![](imgs/diffactivations.png)"
   ]
  },
  {
   "cell_type": "markdown",
   "metadata": {},
   "source": [
    "For our example, let’s use the sigmoid function for activation. The sigmoid function looks like this, graphically:\n",
    "\n",
    "![](imgs/sigmoid.jpg)"
   ]
  },
  {
   "cell_type": "markdown",
   "metadata": {},
   "source": [
    "And applying Sigmoid(x) to the three hidden layer sums, we get some values. Let's put those in our neural network as the hidden layer results.\n",
    "\n",
    "![](imgs/activationadded.png)"
   ]
  },
  {
   "cell_type": "markdown",
   "metadata": {},
   "source": [
    "Then, we sum the product of the hidden layer results with the second set of weights (also determined at random the first time around) to determine the output sum."
   ]
  },
  {
   "cell_type": "markdown",
   "metadata": {},
   "source": [
    "Finally we apply the activation function to get the final output result."
   ]
  },
  {
   "cell_type": "markdown",
   "metadata": {},
   "source": [
    "![](imgs/fullDiagram.png)"
   ]
  },
  {
   "cell_type": "markdown",
   "metadata": {},
   "source": [
    "Because we used a random set of initial weights, the value of the output neuron is off the mark; in this case by +0.77 (since the target is 0). If we stopped here, this set of weights would be a great neural network for inaccurately representing the XOR operation.\n",
    "\n",
    "Let’s fix that by using back propagation to adjust the weights to improve the network!"
   ]
  },
  {
   "cell_type": "markdown",
   "metadata": {},
   "source": [
    "# Backwards propagation"
   ]
  },
  {
   "cell_type": "markdown",
   "metadata": {},
   "source": [
    "To improve our model, we first have to quantify just how wrong our predictions are. Then, we adjust the weights accordingly so that the margin of errors are decreased.\n",
    "\n",
    "We need a way of penalizing our network so that when it makes a mistake, it knows both that it made a mistake, and how much it needs to adjust the weights by so it makes no error, or a smaller error, the next time.\n",
    "\n",
    "\n",
    "Similar to forward propagation, back propagation calculations occur at each “layer”. We begin by changing the weights between the hidden layer and the output layer."
   ]
  },
  {
   "cell_type": "markdown",
   "metadata": {},
   "source": [
    "![](imgs/backprop1.png)"
   ]
  },
  {
   "cell_type": "markdown",
   "metadata": {},
   "source": [
    "Calculating the incremental change to these weights happens in two steps: 1) we find the margin of error of the output result (what we get after applying the activation function) to back out the necessary change in the output sum (we call this delta output sum) and 2) we extract the change in weights by multiplying delta output sum by the hidden layer results.\n",
    "\n",
    "The output sum margin of error is the target output result minus the calculated output result:\n",
    "\n",
    "`output_sum_margin_of_error = target_output - calculated_output`"
   ]
  },
  {
   "cell_type": "markdown",
   "metadata": {},
   "source": [
    "When we do the math for our previous example, we get\n",
    "\n",
    "Target = 0\n",
    "\n",
    "Calculated = 0.77\n",
    "\n",
    "Target - calculated = -0.77\n",
    "\n",
    "### This is where stuff gets complicated."
   ]
  },
  {
   "cell_type": "markdown",
   "metadata": {},
   "source": [
    "To calculate the necessary change in the output sum, or delta output sum, we take the derivative of the activation function and apply it to the output sum. In our example, the activation function is the sigmoid function.\n",
    "\n",
    "To refresh your memory, the activation function, sigmoid, takes the sum and returns the result\n",
    "\n"
   ]
  },
  {
   "cell_type": "markdown",
   "metadata": {},
   "source": [
    "So the derivative of sigmoid, also known as sigmoid prime, will give us the rate of change (or “slope”) of the activation function at the output sum:"
   ]
  },
  {
   "cell_type": "markdown",
   "metadata": {},
   "source": [
    "![](imgs/sigprime.png)"
   ]
  },
  {
   "cell_type": "markdown",
   "metadata": {},
   "source": [
    "Since the output sum margin of error is the difference in the result, we can simply multiply that with the rate of change to give us the delta output sum:"
   ]
  },
  {
   "cell_type": "markdown",
   "metadata": {},
   "source": [
    "![](imgs/dsum.png)"
   ]
  },
  {
   "cell_type": "markdown",
   "metadata": {},
   "source": [
    "Conceptually, this means that the change in the output sum is the same as the sigmoid prime of the output result. Doing the actual math, we get:"
   ]
  },
  {
   "cell_type": "markdown",
   "metadata": {},
   "source": [
    "Here is a graph of the Sigmoid function to give you an idea of how we are using the derivative to move the input towards the right direction. Note that this graph is not to scale."
   ]
  },
  {
   "cell_type": "markdown",
   "metadata": {},
   "source": [
    "![](imgs/siggraph.png)"
   ]
  },
  {
   "cell_type": "markdown",
   "metadata": {},
   "source": [
    "Now that we have the proposed change in the output layer sum (-0.13), let’s use this in the derivative of the output sum function to determine the new change in weights.\n",
    "\n",
    "As a reminder, the mathematical definition of the output sum is the product of the hidden layer result and the weights between the hidden and output layer:"
   ]
  },
  {
   "cell_type": "markdown",
   "metadata": {},
   "source": [
    "![](imgs/onen.png)\n",
    "\n",
    "The derivative of the output sum is:\n",
    "![](imgs/twon.png)\n",
    "\n",
    "..which can also be represented as:\n",
    "![](imgs/threen.png)"
   ]
  },
  {
   "cell_type": "markdown",
   "metadata": {},
   "source": [
    "This relationship suggests that a greater change in output sum yields a greater change in the weights; input neurons with the biggest contribution (higher weight to output neuron) should experience more change in the connecting synapse.\n",
    "\n",
    "Let’s do the math:\n",
    "\n",
    "`hidden result 1 = 0.73105857863\n",
    " hidden result 2 = 0.78583498304\n",
    " hidden result 3 = 0.68997448112\n",
    " Delta weights = delta output sum / hidden layer results\n",
    " Delta weights = -0.1344 / [0.73105, 0.78583, 0.69997]\n",
    " Delta weights = [-0.1838, -0.1710, -0.1920]`\n",
    " \n",
    "`old w7 = 0.3\n",
    " old w8 = 0.5\n",
    " old w9 = 0.9\n",
    " new w7 = 0.1162\n",
    " new w8 = 0.329\n",
    " new w9 = 0.708`"
   ]
  },
  {
   "cell_type": "markdown",
   "metadata": {},
   "source": [
    "To determine the change in the weights between the input and hidden layers, we perform the similar, but notably different, set of calculations. Note that in the following calculations, we use the initial weights instead of the recently adjusted weights from the first part of the backward propagation.\n",
    "\n",
    "Remember that the relationship between the hidden result, the weights between the hidden and output layer, and the output sum is:"
   ]
  },
  {
   "cell_type": "markdown",
   "metadata": {},
   "source": [
    "![](imgs/fourn.png)\n",
    "\n",
    "Instead of deriving for output sum, let’s derive for hidden result as a function of output sum to ultimately find out delta hidden sum:\n",
    "\n",
    "![](imgs/fiven.png)\n",
    "\n",
    "Also, remember that the change in the hidden result can also be defined as:\n",
    "\n",
    "![](imgs/sixn.png)\n",
    "\n",
    "Let’s multiply both sides by sigmoid prime of the hidden sum:\n",
    "\n",
    "![](imgs/sevenn.png)\n",
    "\n"
   ]
  },
  {
   "cell_type": "markdown",
   "metadata": {},
   "source": [
    "All of the pieces in the above equation can be calculated, so we can determine the delta hidden sum:\n",
    "\n",
    "`Delta hidden sum = delta output sum / hidden-to-outer weights * S'(hidden sum)\n",
    "Delta hidden sum = -0.1344 / [0.3, 0.5, 0.9] * S'([1, 1.3, 0.8])\n",
    "Delta hidden sum = [-0.448, -0.2688, -0.1493] * [0.1966, 0.1683, 0.2139]\n",
    "Delta hidden sum = [-0.088, -0.0452, -0.0319]`"
   ]
  },
  {
   "cell_type": "markdown",
   "metadata": {},
   "source": [
    "Once we get the delta hidden sum, we calculate the change in weights between the input and hidden layer by dividing it with the input data, (1, 1). The input data here is equivalent to the hidden results in the earlier back propagation process to determine the change in the hidden-to-output weights. Here is the derivation of that relationship, similar to the one before:\n",
    "\n",
    "![](imgs/soclose.png)\n",
    "![](imgs/soclose2.png)\n",
    "![](imgs/soclose3.png)"
   ]
  },
  {
   "cell_type": "markdown",
   "metadata": {},
   "source": [
    "Let’s do the math:\n",
    "\n",
    "`input 1 = 1\n",
    "input 2 = 1`\n",
    "\n",
    "`Delta weights = delta hidden sum / input data\n",
    "Delta weights = [-0.088, -0.0452, -0.0319] / [1, 1]\n",
    "Delta weights = [-0.088, -0.0452, -0.0319, -0.088, -0.0452, -0.0319]`\n",
    "\n",
    "`old w1 = 0.8\n",
    "old w2 = 0.4\n",
    "old w3 = 0.3\n",
    "old w4 = 0.2\n",
    "old w5 = 0.9\n",
    "old w6 = 0.5`\n",
    "\n",
    "`new w1 = 0.712\n",
    "new w2 = 0.3548\n",
    "new w3 = 0.2681\n",
    "new w4 = 0.112\n",
    "new w5 = 0.8548\n",
    "new w6 = 0.4681`\n",
    "\n",
    "Here are the new weights, right next to the initial random starting weights as comparison:\n",
    "\n",
    "![](imgs/comparism.png)\n",
    "\n",
    "\n",
    "Once we arrive at the adjusted weights, we start again with forward propagation. When training a neural network, it is common to repeat both these processes thousands of times (by default, Mind iterates 10,000 times).\n",
    "\n",
    "# Phew, now its simple.\n",
    "\n",
    "And doing a quick forward propagation, we can see that the final output here is a little closer to the expected output:\n",
    "\n",
    "![](imgs/final.png)"
   ]
  },
  {
   "cell_type": "markdown",
   "metadata": {},
   "source": [
    "Now, you are probably thinking 'What? It just went down 0.07! It's not even close...'\n",
    "\n",
    "Well, in a real situation, we would run this over 10000 times with a significantly more complicated network (more neurons, more layers), different functions(regularization, dropout, etc... we'll learn about these later)\n",
    "\n",
    "You would be able to have some *amazing* predictions and accuracy with a good network."
   ]
  }
 ],
 "metadata": {
  "kernelspec": {
   "display_name": "Python 3",
   "language": "python",
   "name": "python3"
  },
  "language_info": {
   "codemirror_mode": {
    "name": "ipython",
    "version": 3
   },
   "file_extension": ".py",
   "mimetype": "text/x-python",
   "name": "python",
   "nbconvert_exporter": "python",
   "pygments_lexer": "ipython3",
   "version": "3.5.4"
  },
  "widgets": {
   "state": {},
   "version": "1.1.2"
  }
 },
 "nbformat": 4,
 "nbformat_minor": 2
}
